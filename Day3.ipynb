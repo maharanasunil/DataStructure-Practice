{
 "cells": [
  {
   "cell_type": "markdown",
   "metadata": {},
   "source": [
    "## Delete a Linked List"
   ]
  },
  {
   "cell_type": "markdown",
   "metadata": {},
   "source": [
    "Write a program to delete a Linked List"
   ]
  },
  {
   "cell_type": "code",
   "execution_count": 13,
   "metadata": {},
   "outputs": [
    {
     "name": "stdout",
     "output_type": "stream",
     "text": [
      "Linked List is:\n",
      "\n",
      "1->12->1->4->1->\n",
      "\n",
      "Linked List deleted\n"
     ]
    },
    {
     "data": {
      "text/plain": [
       "False"
      ]
     },
     "execution_count": 13,
     "metadata": {},
     "output_type": "execute_result"
    }
   ],
   "source": [
    "class Node:\n",
    "    def __init__(self,data):\n",
    "        self.data = data\n",
    "        self.next = None\n",
    "class LinkedList:\n",
    "    def __init__(self):\n",
    "        self.head = None\n",
    "        \n",
    "    def deleteList(self):\n",
    "        #store the head node in curr\n",
    "        curr = self. head\n",
    "        while curr:\n",
    "            #Store the next of head in prev\n",
    "            prev = curr.next\n",
    "            #Delete the current data\n",
    "            del curr.data\n",
    "            #Then store the next of head again in curr\n",
    "            curr = prev\n",
    "            \n",
    "    def push(self, new_data):\n",
    "        new_node = Node(new_data)\n",
    "        new_node.next = self.head\n",
    "        self.head = new_node\n",
    "        \n",
    "    def printList(self):\n",
    "        temp = self.head\n",
    "        while(temp):\n",
    "            print(temp.data, end='->')\n",
    "            temp = temp.next\n",
    "    \n",
    "    \n",
    "#Driver Code\n",
    "llist = LinkedList()\n",
    "llist.push(1)\n",
    "llist.push(4)\n",
    "llist.push(1)\n",
    "llist.push(12)\n",
    "llist.push(1)\n",
    "\n",
    "print(\"Linked List is:\\n\")\n",
    "llist.printList()\n",
    "\n",
    "llist.deleteList()\n",
    "print(\"\\n\\nLinked List deleted\")\n",
    "llist.isEmpty()"
   ]
  },
  {
   "cell_type": "markdown",
   "metadata": {},
   "source": [
    "## Find Length of a Linked List"
   ]
  },
  {
   "cell_type": "markdown",
   "metadata": {},
   "source": [
    "Write a program to count the no of nodes in a singly linked list\n",
    "##### ITERATIVE SOLUTION"
   ]
  },
  {
   "cell_type": "code",
   "execution_count": 16,
   "metadata": {},
   "outputs": [
    {
     "name": "stdout",
     "output_type": "stream",
     "text": [
      "Count of Nodes is: 5\n"
     ]
    }
   ],
   "source": [
    "class Node:\n",
    "    def __init__(self, data):\n",
    "        self.data = data\n",
    "        self.next = None\n",
    "class LinkedList:\n",
    "    def __init__(self):\n",
    "        self.head = None\n",
    "        \n",
    "    def push(self, new_data):\n",
    "        new_node = Node(new_data)\n",
    "        new_node.next = self.head\n",
    "        self.head = new_node\n",
    "    #Count the no of nodes    \n",
    "    def getCount(self):\n",
    "        count = 0\n",
    "        temp = self.head\n",
    "        while(temp):\n",
    "            count += 1\n",
    "            temp = temp.next\n",
    "        return count\n",
    "    \n",
    "#Driver Code\n",
    "llist = LinkedList()\n",
    "llist.push(1)\n",
    "llist.push(3)\n",
    "llist.push(1) \n",
    "llist.push(2) \n",
    "llist.push(1)\n",
    "print(\"Count of Nodes is:\",llist.getCount())"
   ]
  },
  {
   "cell_type": "markdown",
   "metadata": {},
   "source": [
    "##### RECURSIVE SOLUTION"
   ]
  },
  {
   "cell_type": "code",
   "execution_count": 18,
   "metadata": {},
   "outputs": [
    {
     "name": "stdout",
     "output_type": "stream",
     "text": [
      "Count of Nodes is: 5\n"
     ]
    }
   ],
   "source": [
    "class Node:\n",
    "    def __init__(self, data):\n",
    "        self.data = data\n",
    "        self.next = None\n",
    "class LinkedList:\n",
    "    def __init__(self):\n",
    "        self.head = None\n",
    "        \n",
    "    def push(self, new_data):\n",
    "        new_node = Node(new_data)\n",
    "        new_node.next = self.head\n",
    "        self.head = new_node\n",
    "        \n",
    "    def getCountRec(self, node): \n",
    "        if (not node): # Base case \n",
    "            return 0\n",
    "        else: \n",
    "            return 1 + self.getCountRec(node.next) \n",
    "  \n",
    "    # A wrapper over getCountRec() \n",
    "    def getCount(self): \n",
    "        return self.getCountRec(self.head) \n",
    "    \n",
    "#Driver Code\n",
    "llist = LinkedList()\n",
    "llist.push(1)\n",
    "llist.push(3)\n",
    "llist.push(1) \n",
    "llist.push(2) \n",
    "llist.push(1)\n",
    "print(\"Count of Nodes is:\",llist.getCount())"
   ]
  },
  {
   "cell_type": "markdown",
   "metadata": {},
   "source": [
    "## Search an element in a Linked List"
   ]
  },
  {
   "cell_type": "markdown",
   "metadata": {},
   "source": [
    "Write a function that searches a given key ‘x’ in a given singly linked list. The function should return true if x is present in linked list and false otherwise.\n",
    "##### ITERATIVE METHOD"
   ]
  },
  {
   "cell_type": "code",
   "execution_count": 27,
   "metadata": {},
   "outputs": [
    {
     "name": "stdout",
     "output_type": "stream",
     "text": [
      "Yes\n",
      "10  is present\n",
      "15  is not present\n",
      "20  is not present\n",
      "30  is present\n",
      "11  is present\n",
      "14  is present\n",
      "45  is not present\n"
     ]
    }
   ],
   "source": [
    "class Node:\n",
    "    def __init__(self, data):\n",
    "        self.data = data\n",
    "        self.next = None\n",
    "class LinkedList:\n",
    "    def __init__(self):\n",
    "        self.head = None\n",
    "        \n",
    "    def push(self, new_data):\n",
    "        new_node = Node(new_data)\n",
    "        new_node.next = self.head\n",
    "        self.head = new_node\n",
    "    \n",
    "    def search(self, key):\n",
    "        #set temp as head node\n",
    "        temp = self.head\n",
    "        #while loop till temp becomes null\n",
    "        while(temp):\n",
    "            #if key is found return True\n",
    "            if temp.data == key:\n",
    "                return True\n",
    "            temp = temp.next\n",
    "        return False #if data not found\n",
    "    \n",
    "#Driver Code\n",
    "llist = LinkedList()\n",
    "llist.push(10) \n",
    "llist.push(30) \n",
    "llist.push(11) \n",
    "llist.push(21) \n",
    "llist.push(14)\n",
    "\n",
    "if llist.search(21):\n",
    "    print(\"Yes\")\n",
    "else:\n",
    "    print(\"No\")\n",
    "    \n",
    "l = [10, 15, 20, 30, 11, 14, 45]\n",
    "for i in l:\n",
    "    if llist.search(i):\n",
    "        print(i,\" is present\")\n",
    "    else:\n",
    "        print(i,\" is not present\")"
   ]
  },
  {
   "cell_type": "markdown",
   "metadata": {},
   "source": [
    "##### RECURSIVE METHOD"
   ]
  },
  {
   "cell_type": "code",
   "execution_count": 47,
   "metadata": {},
   "outputs": [
    {
     "name": "stdout",
     "output_type": "stream",
     "text": [
      "No\n"
     ]
    }
   ],
   "source": [
    "class Node:\n",
    "    def __init__(self, data):\n",
    "        self.data = data\n",
    "        self.next = None\n",
    "class LinkedList:\n",
    "    def __init__(self):\n",
    "        self.head = None\n",
    "        \n",
    "    def push(self, new_data):\n",
    "        new_node = Node(new_data)\n",
    "        new_node.next = self.head\n",
    "        self.head = new_node\n",
    "    \n",
    "    def rec_search(self, llist , key):\n",
    "        #check if head is null then return false\n",
    "        if (not llist):\n",
    "            return False\n",
    "        #if head data is same as key then return true\n",
    "        if (llist.data == key):\n",
    "            return True\n",
    "        #else search for the next till value is found or Null\n",
    "        return self.rec_search(llist.next, key)\n",
    "        \n",
    "        \n",
    "        \n",
    "        \n",
    "    \n",
    "#Driver Code\n",
    "llist = LinkedList()\n",
    "llist.push(1) \n",
    "llist.push(2) \n",
    "llist.push(3) \n",
    "llist.push(4) \n",
    "llist.push(5)\n",
    "\n",
    "key = 7\n",
    "\n",
    "if llist.rec_search(llist.head, key):\n",
    "    print(\"Yes\")\n",
    "else:\n",
    "    print(\"No\")"
   ]
  },
  {
   "cell_type": "markdown",
   "metadata": {},
   "source": [
    "### Write a function to get Nth node in a Linked List"
   ]
  },
  {
   "cell_type": "markdown",
   "metadata": {},
   "source": [
    "Write a GetNth() function that takes a linked list and an integer index and returns the data value stored in the node at that index position"
   ]
  },
  {
   "cell_type": "code",
   "execution_count": 53,
   "metadata": {},
   "outputs": [
    {
     "name": "stdout",
     "output_type": "stream",
     "text": [
      "Element at index 3 is : 12\n"
     ]
    }
   ],
   "source": [
    "class Node:\n",
    "    def __init__(self, data):\n",
    "        self.data = data\n",
    "        self.next = None\n",
    "class LinkedList:\n",
    "    def __init__(self):\n",
    "        self.head = None\n",
    "        \n",
    "    def push(self, new_data):\n",
    "        new_node = Node(new_data)\n",
    "        new_node.next = self.head\n",
    "        self.head = new_node\n",
    "        \n",
    "    def getNth(self, index):\n",
    "        temp = self.head\n",
    "        count = 0\n",
    "        while(temp):\n",
    "            if count == index:\n",
    "                return temp.data\n",
    "            count += 1\n",
    "            temp = temp.next\n",
    "        assert(False)\n",
    "        return 0\n",
    "\n",
    "#Driver Code    \n",
    "llist = LinkedList() \n",
    "# Use push() to construct below list \n",
    "# 1->12->1->4->1 \n",
    "llist.push(1) \n",
    "llist.push(4) \n",
    "llist.push(1) \n",
    "llist.push(12) \n",
    "llist.push(1) \n",
    "n = 1\n",
    "print(\"Element at index 3 is :\", llist.getNth(n))"
   ]
  },
  {
   "cell_type": "code",
   "execution_count": null,
   "metadata": {},
   "outputs": [],
   "source": []
  }
 ],
 "metadata": {
  "kernelspec": {
   "display_name": "Python 3",
   "language": "python",
   "name": "python3"
  },
  "language_info": {
   "codemirror_mode": {
    "name": "ipython",
    "version": 3
   },
   "file_extension": ".py",
   "mimetype": "text/x-python",
   "name": "python",
   "nbconvert_exporter": "python",
   "pygments_lexer": "ipython3",
   "version": "3.7.1"
  }
 },
 "nbformat": 4,
 "nbformat_minor": 4
}
