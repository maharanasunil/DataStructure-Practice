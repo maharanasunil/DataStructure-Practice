{
 "cells": [
  {
   "cell_type": "markdown",
   "metadata": {},
   "source": [
    "## STACK"
   ]
  },
  {
   "cell_type": "markdown",
   "metadata": {},
   "source": [
    "### Python programme to demonstrate stack implementation "
   ]
  },
  {
   "cell_type": "code",
   "execution_count": 3,
   "metadata": {},
   "outputs": [
    {
     "name": "stdout",
     "output_type": "stream",
     "text": [
      "Initial Stack:\n",
      " ['a', 'b', 'c']\n",
      "c\n",
      "b\n",
      "a\n",
      "Stack after elements are poped:\n",
      " []\n"
     ]
    }
   ],
   "source": [
    "stack = []\n",
    "\n",
    "#append function to push element in stack\n",
    "stack.append('a')\n",
    "stack.append('b')\n",
    "stack.append('c')\n",
    "print('Initial Stack:\\n', stack)\n",
    "\n",
    "#pop function to pop element from stack\n",
    "print(stack.pop())\n",
    "print(stack.pop())\n",
    "print(stack.pop())\n",
    "print('Stack after elements are poped:\\n', stack)"
   ]
  },
  {
   "cell_type": "markdown",
   "metadata": {},
   "source": [
    "## QUEUE"
   ]
  },
  {
   "cell_type": "markdown",
   "metadata": {},
   "source": [
    "### Implement Queue using 2 stacks with costly deque() "
   ]
  },
  {
   "cell_type": "code",
   "execution_count": 5,
   "metadata": {},
   "outputs": [
    {
     "name": "stdout",
     "output_type": "stream",
     "text": [
      "1\n",
      "2\n",
      "3\n"
     ]
    }
   ],
   "source": [
    "class queue:\n",
    "    def __init__(self):\n",
    "        self.s1 = []\n",
    "        self.s2 = []\n",
    "    #enqueue item to queue\n",
    "    def enqueue(self, x):\n",
    "        self.s1.append(x)\n",
    "        \n",
    "    #dequeue item from queue\n",
    "    def dequeue(self):\n",
    "        #if both the stacks are empty\n",
    "        if len(self.s1) == 0 and len(self.s2) == 0:\n",
    "            print('Queue is empty')\n",
    "            return\n",
    "        #if only stack2 is empty and stack1 has elements\n",
    "        elif len(self.s2) == 0 and len(self.s1) > 0:\n",
    "            while(len(self.s1)):\n",
    "                temp = self.s1.pop()\n",
    "                self.s2.append(temp)\n",
    "            return self.s2.pop()\n",
    "        #if only stack1 is empty\n",
    "        else:\n",
    "            return self.s2.pop()\n",
    "    \n",
    "#Driver code\n",
    "if __name__ == \"__main__\":\n",
    "    q = queue()\n",
    "    q.enqueue(1)\n",
    "    q.enqueue(2)\n",
    "    q.enqueue(3)\n",
    "    \n",
    "    print(q.dequeue())\n",
    "    print(q.dequeue())\n",
    "    print(q.dequeue())  "
   ]
  },
  {
   "cell_type": "markdown",
   "metadata": {},
   "source": [
    "## DEQUE"
   ]
  },
  {
   "cell_type": "markdown",
   "metadata": {},
   "source": [
    "### Program to demostrate working of a deque by inserting and deleting items from both the ends of a queue"
   ]
  },
  {
   "cell_type": "code",
   "execution_count": 11,
   "metadata": {},
   "outputs": [
    {
     "name": "stdout",
     "output_type": "stream",
     "text": [
      "After Appending:\n",
      " deque([1, 2, 3, 4])\n",
      "After Appending Left:\n",
      " deque([6, 1, 2, 3, 4])\n",
      "After deleting from right:\n",
      " deque([6, 1, 2, 3])\n",
      "After deleting from left:\n",
      " deque([1, 2, 3])\n"
     ]
    }
   ],
   "source": [
    "import collections\n",
    "de = collections.deque([1,2,3])\n",
    "#insert element from right end\n",
    "de.append(4)\n",
    "print(\"After Appending:\\n\", de)\n",
    "#insert element from left end\n",
    "de.appendleft(6)\n",
    "print(\"After Appending Left:\\n\", de)\n",
    "#delete element from right end\n",
    "de.pop()\n",
    "print(\"After deleting from right:\\n\", de)\n",
    "#delete element from left end\n",
    "de.popleft()\n",
    "print(\"After deleting from left:\\n\", de)"
   ]
  },
  {
   "cell_type": "markdown",
   "metadata": {},
   "source": [
    "## LINKED LIST"
   ]
  },
  {
   "cell_type": "markdown",
   "metadata": {},
   "source": [
    "#### Linked List can be represented as a class and a node as a separate class"
   ]
  },
  {
   "cell_type": "code",
   "execution_count": 13,
   "metadata": {},
   "outputs": [],
   "source": [
    "class Node:\n",
    "    #initialize node object\n",
    "    def __init__(self):\n",
    "        self.data = data #Assign Data\n",
    "        self.next = None #Initialize next as Null\n",
    "\n",
    "class LinkedList:\n",
    "    #function to initialize L.L object\n",
    "    def __init__(self):\n",
    "        self.head = None"
   ]
  },
  {
   "cell_type": "markdown",
   "metadata": {},
   "source": [
    "### SIMPLE LINKED LIST"
   ]
  },
  {
   "cell_type": "code",
   "execution_count": 14,
   "metadata": {},
   "outputs": [],
   "source": [
    "class Node:\n",
    "    def __init__(self, data):\n",
    "        self.data = data\n",
    "        self.next = None\n",
    "\n",
    "class LinkedList:\n",
    "    def __init__(self):\n",
    "        self.head = None\n",
    "        \n",
    "if __name__ == \"__main__\":\n",
    "    llist = LinkedList()\n",
    "    #Assign node1 to be the head\n",
    "    llist.head = Node(1)\n",
    "    second = Node(2)\n",
    "    third = Node(3)\n",
    "    \n",
    "    #link 1st node with second\n",
    "    llist.head.next = second\n",
    "    #link second node with third\n",
    "    second.next = third"
   ]
  },
  {
   "cell_type": "markdown",
   "metadata": {},
   "source": [
    "### LINKED LIST TRAVERSAL"
   ]
  },
  {
   "cell_type": "code",
   "execution_count": 21,
   "metadata": {},
   "outputs": [
    {
     "name": "stdout",
     "output_type": "stream",
     "text": [
      "1->2->3->"
     ]
    }
   ],
   "source": [
    "class Node:\n",
    "    def __init__(self, data):\n",
    "        self.data = data\n",
    "        self.next = None\n",
    "\n",
    "class LinkedList:\n",
    "    def __init__(self):\n",
    "        self.head = None\n",
    "        \n",
    "    #Print the contents of L.L starting from head\n",
    "    def printList(self):\n",
    "        temp = self.head\n",
    "        while(temp):\n",
    "            print(temp.data, end = '->')\n",
    "            temp = temp.next\n",
    "            \n",
    "    \n",
    "    \n",
    "if __name__ == \"__main__\":\n",
    "    \n",
    "    llist = LinkedList()\n",
    "    llist.head = Node(1)\n",
    "    second = Node(2)\n",
    "    third = Node(3)\n",
    "    \n",
    "    llist.head.next = second\n",
    "    second.next = third\n",
    "    \n",
    "    llist.printList()"
   ]
  },
  {
   "cell_type": "markdown",
   "metadata": {},
   "source": [
    "### Inserting a Node\n",
    "### A Node can be added in 3 ways:\n",
    "#### (i) At the front of Linked List\n",
    "#### (ii) After a given Node\n",
    "#### (iii) At the end of Linked List"
   ]
  },
  {
   "cell_type": "markdown",
   "metadata": {},
   "source": [
    "### Program to demontrate all insertion methods of Linked List"
   ]
  },
  {
   "cell_type": "code",
   "execution_count": 23,
   "metadata": {},
   "outputs": [
    {
     "name": "stdout",
     "output_type": "stream",
     "text": [
      "Created Linked List is:\n",
      "\n",
      "1->7->8->6->4->"
     ]
    }
   ],
   "source": [
    "class Node:\n",
    "    def __init__(self, data):\n",
    "        self.data = data\n",
    "        self.next = None\n",
    "\n",
    "class LinkedList:\n",
    "    def __init__(self):\n",
    "        self.head = None\n",
    "        \n",
    "    #INSERT NODE AT THE BEGINNING\n",
    "    def push(self, new_data):\n",
    "        new_node = Node(new_data)\n",
    "        #next of new node ==> previous-head\n",
    "        new_node.next = self.head\n",
    "        #then new node becomes the head\n",
    "        self.head = new_node\n",
    "    \n",
    "    #INSERT NODE AFTER GIVEN NODE\n",
    "    def insertAfter(self, prev_node, new_data):\n",
    "        if prev_node is None:\n",
    "            print(\"The given previous node must be in L.L\")\n",
    "            return\n",
    "        new_node = Node(new_data)\n",
    "        #Assigned the next of previous node to the next of new node\n",
    "        new_node.next = prev_node.next\n",
    "        #assigned the next of previous node to the new node\n",
    "        prev_node.next = new_node\n",
    "           \n",
    "    #ADD A NODE AT THE END\n",
    "    def append(self, new_data):\n",
    "        new_node = Node(new_data)\n",
    "        if self.head is None:\n",
    "            self.head = new_node\n",
    "            return\n",
    "        last = self.head\n",
    "        while(last.next):\n",
    "            last = last.next\n",
    "        last.next = new_node\n",
    "        \n",
    "        \n",
    "    #FUNCTION TO PRINT THE LINKED LIST\n",
    "    def printList(self):\n",
    "        temp = self.head\n",
    "        while(temp):\n",
    "            print(temp.data, end=\"->\")\n",
    "            temp = temp.next\n",
    "            \n",
    "#Driver Code\n",
    "if __name__ == '__main__':\n",
    "    llist = LinkedList()\n",
    "    llist.append(6) #6->Null\n",
    "    llist.push(7)   #7->6->Null\n",
    "    llist.push(1)   #1->7->6->Null\n",
    "    llist.append(4) #1->7->6->4->Null\n",
    "    #Insert 8 after 7\n",
    "    llist.insertAfter(llist.head.next, 8) ##1->7->8->6->Null\n",
    "    \n",
    "    print(\"Created Linked List is:\\n\")\n",
    "    llist.printList()"
   ]
  }
 ],
 "metadata": {
  "kernelspec": {
   "display_name": "Python 3",
   "language": "python",
   "name": "python3"
  },
  "language_info": {
   "codemirror_mode": {
    "name": "ipython",
    "version": 3
   },
   "file_extension": ".py",
   "mimetype": "text/x-python",
   "name": "python",
   "nbconvert_exporter": "python",
   "pygments_lexer": "ipython3",
   "version": "3.7.1"
  }
 },
 "nbformat": 4,
 "nbformat_minor": 4
}
